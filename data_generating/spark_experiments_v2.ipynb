{
 "cells": [
  {
   "cell_type": "code",
   "execution_count": 9,
   "metadata": {},
   "outputs": [],
   "source": [
    "#import findspark\n",
    "#findspark.init('/home/max/Downloads/spark-2.4.0-bin-hadoop2.7')\n",
    "#from pyspark.sql import SparkSession\n",
    "\n"
   ]
  },
  {
   "cell_type": "code",
   "execution_count": 10,
   "metadata": {},
   "outputs": [],
   "source": [
    "#spark= SparkSession.builder.getOrCreate()"
   ]
  },
  {
   "cell_type": "code",
   "execution_count": 1,
   "metadata": {},
   "outputs": [],
   "source": [
    "\n",
    "import matplotlib.pyplot as plt\n",
    "import random\n",
    "import numpy as np\n",
    "import pandas as pd\n",
    "import datetime\n",
    "from datetime import timedelta\n",
    "import csv"
   ]
  },
  {
   "cell_type": "code",
   "execution_count": 5,
   "metadata": {},
   "outputs": [],
   "source": [
    "pd.set_option('display.max_rows', 200)\n",
    "pd.set_option('display.max_colwidth', -1)"
   ]
  },
  {
   "cell_type": "code",
   "execution_count": 2,
   "metadata": {},
   "outputs": [],
   "source": [
    "# import code counts, and convert to dict with probabilities\n",
    "code_counts = pd.read_csv('code_counts.csv')\n",
    "code_counts.columns = ['code', 'count']\n",
    "code_counts['prop'] = code_counts['count']/code_counts['count'].sum()\n",
    "#code_counts.head()\n",
    "code_counts = dict(zip(code_counts['code'], code_counts['prop']))\n"
   ]
  },
  {
   "cell_type": "code",
   "execution_count": 4,
   "metadata": {},
   "outputs": [
    {
     "data": {
      "text/plain": [
       "'H04'"
      ]
     },
     "execution_count": 4,
     "metadata": {},
     "output_type": "execute_result"
    }
   ],
   "source": [
    "# get random code based on the weight (probability) of each code\n",
    "def get_random_code(dct):\n",
    "    rand_val = random.random()\n",
    "    total = 0\n",
    "    for k, v in dct.items():\n",
    "        total += v\n",
    "        if rand_val <= total:\n",
    "            return k\n",
    "    assert False, 'unreachable'\n",
    "    \n",
    "get_random_code(code_counts)"
   ]
  },
  {
   "cell_type": "code",
   "execution_count": 182,
   "metadata": {},
   "outputs": [],
   "source": [
    "# from collections import Counter\n",
    "# acc = []\n",
    "# for i in range(10000):\n",
    "#     acc.append(weighted_random_by_dct(code_counts))\n",
    "# Counter(xx).most_common()"
   ]
  },
  {
   "cell_type": "code",
   "execution_count": 16,
   "metadata": {},
   "outputs": [],
   "source": []
  },
  {
   "cell_type": "code",
   "execution_count": 6,
   "metadata": {},
   "outputs": [],
   "source": [
    "start_value = 5\n",
    "start_time_shift =20\n",
    "random_walk_weight = 0.01\n",
    "random_walk_variance = 1\n",
    "seasonality_1_freq = 50 #lower is shorter\n",
    "seasonality_1_weight = 5\n",
    "seasonality_2_freq = 7 #lower is shorter\n",
    "seasonality_2_weight = 2\n",
    "\n",
    "sample_size = 1000\n",
    "\n",
    "trend = 0.02\n",
    "exponent = 1\n",
    "codes = list('abcdefghijklmnopqrstuvwxyz')\n",
    "n_samples = 10\n",
    "\n",
    "terms = []\n",
    "with open('wordlist.csv', 'r') as f:\n",
    "    reader = csv.reader(f)\n",
    "    terms = [word[0] for word in list(reader)]\n",
    "    random.shuffle(terms)\n",
    "\n",
    "# Generates time series\n",
    "def generate_ts():\n",
    "    sample = []\n",
    "    random_walk = np.random.normal(0,random_walk_variance)\n",
    "    y = start_value\n",
    "\n",
    "    for time in np.arange(sample_size):\n",
    "\n",
    "        #Assume no start at y = 0\n",
    "        time = time + start_time_shift\n",
    "\n",
    "        #Add seasonality 1\n",
    "        y = (np.sin(time/seasonality_1_freq))*seasonality_1_weight\n",
    "        \n",
    "\n",
    "        #Add seasonality 2\n",
    "        y = y + np.sin(time/seasonality_2_freq)*seasonality_2_weight\n",
    "\n",
    "        #Add trend\n",
    "        y = y + (trend * (time ** exponent))\n",
    "\n",
    "        # Random walk component\n",
    "        random_walk = random_walk + np.random.normal(0,random_walk_variance)\n",
    "        y = y + random_walk * random_walk_weight\n",
    "        \n",
    "\n",
    "        sample.append(max(0, y))\n",
    "    return sample\n",
    "\n",
    "#Plot some time series\n",
    "def plot_ts(n):\n",
    "    for _ in range(n):\n",
    "        plt.plot(generate_ts())\n",
    "\n",
    "#Creates a dummy dataset from n time series for 'codes'\n",
    "\n",
    "#For profiling by line:\n",
    "#kernprof -l generate_data.py\n",
    "#python3 -m line_profiler generate_data.py.lprof\n",
    "#uncomment following line:\n",
    "#@profile \n",
    "def create_dummy_dataset():\n",
    "    df = []\n",
    "    sample_range = 0\n",
    "    samples = generate_ts()\n",
    "    for index, number in enumerate(samples): #Loop over a sample\n",
    "        for n in range(int(round(number))): #Create n entries\n",
    "            date = datetime.datetime(1950, 1, 1, 0, 0) + timedelta(days=index)\n",
    "            current_sample = index+n\n",
    "            sample = terms[current_sample:current_sample+100]\n",
    "            text = \" \".join(sample)\n",
    "            df.append([date, get_random_code(code_counts), text])\n",
    "    pandas_df = pd.DataFrame(df, columns=['date', 'code', 'text'])\n",
    "    return pandas_df\n",
    "\n",
    "\n",
    "dummy_dataset = create_dummy_dataset()\n",
    "#dummy_dataset\n",
    "\n",
    "# plot_ts(10)\n",
    "# plt.show()"
   ]
  },
  {
   "cell_type": "code",
   "execution_count": 7,
   "metadata": {},
   "outputs": [
    {
     "data": {
      "text/html": [
       "<div>\n",
       "<style scoped>\n",
       "    .dataframe tbody tr th:only-of-type {\n",
       "        vertical-align: middle;\n",
       "    }\n",
       "\n",
       "    .dataframe tbody tr th {\n",
       "        vertical-align: top;\n",
       "    }\n",
       "\n",
       "    .dataframe thead th {\n",
       "        text-align: right;\n",
       "    }\n",
       "</style>\n",
       "<table border=\"1\" class=\"dataframe\">\n",
       "  <thead>\n",
       "    <tr style=\"text-align: right;\">\n",
       "      <th></th>\n",
       "      <th>date</th>\n",
       "      <th>code</th>\n",
       "      <th>text</th>\n",
       "    </tr>\n",
       "  </thead>\n",
       "  <tbody>\n",
       "    <tr>\n",
       "      <th>0</th>\n",
       "      <td>1950-01-01</td>\n",
       "      <td>Y10</td>\n",
       "      <td>protective then talented initiatives ah nonprofit boats trials commerce resource thin las gg ob governments mile unified gamecube issues tribune selection titanium nomination knowledge arrivals insects request consoles busy patrick reservation agreement aj disabled works nine whereas came bee heel love roots clocks orleans liked induced ranks receiving beatles magazine ellen purposes crest preceding trader paraguay busty italic browsers quilt towards premiere nipples textiles always distributor contracts quoted zero faster losing generators applicants indication zimbabwe acting estimates auctions consider op continent hit genesis citizenship connector ol shut bond fell edgar motivation holmes nasty andrea robust ranking rome acdbentity destiny occurrence</td>\n",
       "    </tr>\n",
       "    <tr>\n",
       "      <th>1</th>\n",
       "      <td>1950-01-01</td>\n",
       "      <td>F25</td>\n",
       "      <td>then talented initiatives ah nonprofit boats trials commerce resource thin las gg ob governments mile unified gamecube issues tribune selection titanium nomination knowledge arrivals insects request consoles busy patrick reservation agreement aj disabled works nine whereas came bee heel love roots clocks orleans liked induced ranks receiving beatles magazine ellen purposes crest preceding trader paraguay busty italic browsers quilt towards premiere nipples textiles always distributor contracts quoted zero faster losing generators applicants indication zimbabwe acting estimates auctions consider op continent hit genesis citizenship connector ol shut bond fell edgar motivation holmes nasty andrea robust ranking rome acdbentity destiny occurrence swimming</td>\n",
       "    </tr>\n",
       "    <tr>\n",
       "      <th>2</th>\n",
       "      <td>1950-01-01</td>\n",
       "      <td>A61</td>\n",
       "      <td>talented initiatives ah nonprofit boats trials commerce resource thin las gg ob governments mile unified gamecube issues tribune selection titanium nomination knowledge arrivals insects request consoles busy patrick reservation agreement aj disabled works nine whereas came bee heel love roots clocks orleans liked induced ranks receiving beatles magazine ellen purposes crest preceding trader paraguay busty italic browsers quilt towards premiere nipples textiles always distributor contracts quoted zero faster losing generators applicants indication zimbabwe acting estimates auctions consider op continent hit genesis citizenship connector ol shut bond fell edgar motivation holmes nasty andrea robust ranking rome acdbentity destiny occurrence swimming schemes</td>\n",
       "    </tr>\n",
       "    <tr>\n",
       "      <th>3</th>\n",
       "      <td>1950-01-02</td>\n",
       "      <td>H01</td>\n",
       "      <td>then talented initiatives ah nonprofit boats trials commerce resource thin las gg ob governments mile unified gamecube issues tribune selection titanium nomination knowledge arrivals insects request consoles busy patrick reservation agreement aj disabled works nine whereas came bee heel love roots clocks orleans liked induced ranks receiving beatles magazine ellen purposes crest preceding trader paraguay busty italic browsers quilt towards premiere nipples textiles always distributor contracts quoted zero faster losing generators applicants indication zimbabwe acting estimates auctions consider op continent hit genesis citizenship connector ol shut bond fell edgar motivation holmes nasty andrea robust ranking rome acdbentity destiny occurrence swimming</td>\n",
       "    </tr>\n",
       "    <tr>\n",
       "      <th>4</th>\n",
       "      <td>1950-01-02</td>\n",
       "      <td>H02</td>\n",
       "      <td>talented initiatives ah nonprofit boats trials commerce resource thin las gg ob governments mile unified gamecube issues tribune selection titanium nomination knowledge arrivals insects request consoles busy patrick reservation agreement aj disabled works nine whereas came bee heel love roots clocks orleans liked induced ranks receiving beatles magazine ellen purposes crest preceding trader paraguay busty italic browsers quilt towards premiere nipples textiles always distributor contracts quoted zero faster losing generators applicants indication zimbabwe acting estimates auctions consider op continent hit genesis citizenship connector ol shut bond fell edgar motivation holmes nasty andrea robust ranking rome acdbentity destiny occurrence swimming schemes</td>\n",
       "    </tr>\n",
       "  </tbody>\n",
       "</table>\n",
       "</div>"
      ],
      "text/plain": [
       "        date code  \\\n",
       "0 1950-01-01  Y10   \n",
       "1 1950-01-01  F25   \n",
       "2 1950-01-01  A61   \n",
       "3 1950-01-02  H01   \n",
       "4 1950-01-02  H02   \n",
       "\n",
       "                                                                                                                                                                                                                                                                                                                                                                                                                                                                                                                                                                                                                                                                                                                                                                                            text  \n",
       "0  protective then talented initiatives ah nonprofit boats trials commerce resource thin las gg ob governments mile unified gamecube issues tribune selection titanium nomination knowledge arrivals insects request consoles busy patrick reservation agreement aj disabled works nine whereas came bee heel love roots clocks orleans liked induced ranks receiving beatles magazine ellen purposes crest preceding trader paraguay busty italic browsers quilt towards premiere nipples textiles always distributor contracts quoted zero faster losing generators applicants indication zimbabwe acting estimates auctions consider op continent hit genesis citizenship connector ol shut bond fell edgar motivation holmes nasty andrea robust ranking rome acdbentity destiny occurrence   \n",
       "1  then talented initiatives ah nonprofit boats trials commerce resource thin las gg ob governments mile unified gamecube issues tribune selection titanium nomination knowledge arrivals insects request consoles busy patrick reservation agreement aj disabled works nine whereas came bee heel love roots clocks orleans liked induced ranks receiving beatles magazine ellen purposes crest preceding trader paraguay busty italic browsers quilt towards premiere nipples textiles always distributor contracts quoted zero faster losing generators applicants indication zimbabwe acting estimates auctions consider op continent hit genesis citizenship connector ol shut bond fell edgar motivation holmes nasty andrea robust ranking rome acdbentity destiny occurrence swimming     \n",
       "2  talented initiatives ah nonprofit boats trials commerce resource thin las gg ob governments mile unified gamecube issues tribune selection titanium nomination knowledge arrivals insects request consoles busy patrick reservation agreement aj disabled works nine whereas came bee heel love roots clocks orleans liked induced ranks receiving beatles magazine ellen purposes crest preceding trader paraguay busty italic browsers quilt towards premiere nipples textiles always distributor contracts quoted zero faster losing generators applicants indication zimbabwe acting estimates auctions consider op continent hit genesis citizenship connector ol shut bond fell edgar motivation holmes nasty andrea robust ranking rome acdbentity destiny occurrence swimming schemes  \n",
       "3  then talented initiatives ah nonprofit boats trials commerce resource thin las gg ob governments mile unified gamecube issues tribune selection titanium nomination knowledge arrivals insects request consoles busy patrick reservation agreement aj disabled works nine whereas came bee heel love roots clocks orleans liked induced ranks receiving beatles magazine ellen purposes crest preceding trader paraguay busty italic browsers quilt towards premiere nipples textiles always distributor contracts quoted zero faster losing generators applicants indication zimbabwe acting estimates auctions consider op continent hit genesis citizenship connector ol shut bond fell edgar motivation holmes nasty andrea robust ranking rome acdbentity destiny occurrence swimming     \n",
       "4  talented initiatives ah nonprofit boats trials commerce resource thin las gg ob governments mile unified gamecube issues tribune selection titanium nomination knowledge arrivals insects request consoles busy patrick reservation agreement aj disabled works nine whereas came bee heel love roots clocks orleans liked induced ranks receiving beatles magazine ellen purposes crest preceding trader paraguay busty italic browsers quilt towards premiere nipples textiles always distributor contracts quoted zero faster losing generators applicants indication zimbabwe acting estimates auctions consider op continent hit genesis citizenship connector ol shut bond fell edgar motivation holmes nasty andrea robust ranking rome acdbentity destiny occurrence swimming schemes  "
      ]
     },
     "execution_count": 7,
     "metadata": {},
     "output_type": "execute_result"
    }
   ],
   "source": [
    "dummy_dataset.head()"
   ]
  }
 ],
 "metadata": {
  "kernelspec": {
   "display_name": "Python 3",
   "language": "python",
   "name": "python3"
  },
  "language_info": {
   "codemirror_mode": {
    "name": "ipython",
    "version": 3
   },
   "file_extension": ".py",
   "mimetype": "text/x-python",
   "name": "python",
   "nbconvert_exporter": "python",
   "pygments_lexer": "ipython3",
   "version": "3.6.4"
  }
 },
 "nbformat": 4,
 "nbformat_minor": 2
}
