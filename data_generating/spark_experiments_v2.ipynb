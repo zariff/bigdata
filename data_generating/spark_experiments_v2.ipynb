{
 "cells": [
  {
   "cell_type": "code",
   "execution_count": 65,
   "metadata": {},
   "outputs": [],
   "source": [
    "#import findspark\n",
    "#findspark.init('/home/max/Downloads/spark-2.4.0-bin-hadoop2.7')\n",
    "# from pyspark.sql import SparkSession\n",
    "# from pyspark.sql import Row\n",
    "\n"
   ]
  },
  {
   "cell_type": "code",
   "execution_count": 66,
   "metadata": {},
   "outputs": [],
   "source": [
    "#spark= SparkSession.builder.getOrCreate()"
   ]
  },
  {
   "cell_type": "code",
   "execution_count": 67,
   "metadata": {},
   "outputs": [],
   "source": [
    "from io import StringIO\n",
    "import matplotlib.pyplot as plt\n",
    "import random\n",
    "import numpy as np\n",
    "import pandas as pd\n",
    "import datetime\n",
    "from datetime import timedelta\n",
    "import csv\n",
    "import sys\n",
    "from pympler.asizeof import asizeof\n",
    "import boto3\n",
    "import time\n",
    "\n",
    "import s3fs\n",
    "from fastparquet import write\n",
    "\n",
    "import pyarrow.parquet as pq"
   ]
  },
  {
   "cell_type": "code",
   "execution_count": 68,
   "metadata": {},
   "outputs": [],
   "source": [
    "pd.set_option('display.max_rows', 200)\n",
    "pd.set_option('display.max_colwidth', -1)"
   ]
  },
  {
   "cell_type": "code",
   "execution_count": 69,
   "metadata": {},
   "outputs": [],
   "source": [
    "# import code counts, and convert to dict with probabilities\n",
    "code_counts = pd.read_csv('code_counts.csv')\n",
    "code_counts.columns = ['code', 'count']\n",
    "code_counts = code_counts[code_counts['count'] > 100]\n",
    "code_counts['prop'] = code_counts['count']/code_counts['count'].sum()\n",
    "#code_counts.head()\n",
    "code_counts = dict(zip(code_counts['code'], code_counts['prop']))"
   ]
  },
  {
   "cell_type": "code",
   "execution_count": 70,
   "metadata": {},
   "outputs": [],
   "source": [
    "unique_codes = list(code_counts.keys())\n",
    "#print(list(unique_codes))"
   ]
  },
  {
   "cell_type": "code",
   "execution_count": 71,
   "metadata": {},
   "outputs": [
    {
     "data": {
      "text/plain": [
       "'H04'"
      ]
     },
     "execution_count": 71,
     "metadata": {},
     "output_type": "execute_result"
    }
   ],
   "source": [
    "# get random code based on the weight (probability) of each code\n",
    "def get_random_code(dct):\n",
    "    rand_val = random.random()\n",
    "    total = 0\n",
    "    for k, v in dct.items():\n",
    "        total += v\n",
    "        if rand_val <= total:\n",
    "            return k\n",
    "    assert False, 'unreachable'\n",
    "    \n",
    "get_random_code(code_counts)"
   ]
  },
  {
   "cell_type": "code",
   "execution_count": 72,
   "metadata": {},
   "outputs": [],
   "source": [
    "with open('filtered_text.txt') as f:\n",
    "    terms = f.readlines()\n",
    "# you may also want to remove whitespace characters like `\\n` at the end of each line\n",
    "terms = [x.strip() for x in terms] \n",
    "random.shuffle(terms)"
   ]
  },
  {
   "cell_type": "code",
   "execution_count": 84,
   "metadata": {},
   "outputs": [
    {
     "name": "stdout",
     "output_type": "stream",
     "text": [
      "stored file number 0 , current day: 7920 0.43397260273972604 %), time: 31.468837022781372\n",
      "stored file number 1 , current day: 9027 0.49463013698630137 %), time: 84.36957097053528\n",
      "stored file number 2 , current day: 9677 0.5302465753424658 %), time: 105.04168319702148\n",
      "stored file number 3 , current day: 10139 0.5555616438356165 %), time: 151.0017602443695\n",
      "stored file number 4 , current day: 10498 0.5752328767123288 %), time: 172.64944505691528\n",
      "stored file number 5 , current day: 10792 0.5913424657534246 %), time: 202.9931571483612\n",
      "stored file number 6 , current day: 11040 0.6049315068493151 %), time: 255.95258808135986\n",
      "stored file number 7 , current day: 11255 0.6167123287671233 %), time: 296.00857520103455\n",
      "stored file number 8 , current day: 11444 0.6270684931506849 %), time: 319.4930810928345\n",
      "stored file number 9 , current day: 11614 0.6363835616438356 %), time: 359.38517022132874\n",
      "stored file number 10 , current day: 11767 0.6447671232876713 %), time: 436.86851596832275\n",
      "stored file number 11 , current day: 11908 0.6524931506849315 %), time: 474.6312758922577\n",
      "stored file number 12 , current day: 12037 0.6595616438356164 %), time: 496.98072123527527\n",
      "stored file number 13 , current day: 12157 0.6661369863013699 %), time: 545.3886351585388\n",
      "stored file number 14 , current day: 12268 0.6722191780821918 %), time: 588.6695680618286\n",
      "stored file number 15 , current day: 12372 0.6779178082191781 %), time: 613.6219291687012\n",
      "stored file number 16 , current day: 12470 0.6832876712328767 %), time: 661.9253461360931\n",
      "stored file number 17 , current day: 12562 0.6883287671232877 %), time: 707.0552859306335\n",
      "stored file number 18 , current day: 12649 0.6930958904109589 %), time: 738.1128511428833\n",
      "stored file number 19 , current day: 12732 0.6976438356164384 %), time: 769.2881278991699\n",
      "stored file number 20 , current day: 12811 0.7019726027397261 %), time: 808.1011991500854\n",
      "stored file number 21 , current day: 12886 0.7060821917808219 %), time: 850.2253942489624\n",
      "stored file number 22 , current day: 12958 0.710027397260274 %), time: 882.2131712436676\n",
      "stored file number 23 , current day: 13027 0.7138082191780822 %), time: 913.0513782501221\n",
      "stored file number 24 , current day: 13093 0.7174246575342466 %), time: 943.0794680118561\n",
      "stored file number 25 , current day: 13156 0.7208767123287672 %), time: 976.2840631008148\n",
      "stored file number 26 , current day: 13217 0.7242191780821918 %), time: 1010.5211801528931\n",
      "stored file number 27 , current day: 13276 0.7274520547945206 %), time: 1048.84912109375\n",
      "stored file number 28 , current day: 13333 0.7305753424657534 %), time: 1102.4711661338806\n",
      "stored file number 29 , current day: 13388 0.7335890410958904 %), time: 1149.2051191329956\n",
      "stored file number 30 , current day: 13441 0.7364931506849315 %), time: 1181.4665172100067\n",
      "stored file number 31 , current day: 13492 0.7392876712328768 %), time: 1231.5620121955872\n",
      "stored file number 32 , current day: 13542 0.742027397260274 %), time: 1266.9220750331879\n",
      "stored file number 33 , current day: 13590 0.7446575342465753 %), time: 1313.8035171031952\n",
      "stored file number 34 , current day: 13637 0.7472328767123287 %), time: 1352.551330089569\n",
      "stored file number 35 , current day: 13683 0.7497534246575343 %), time: 1399.9778459072113\n",
      "stored file number 36 , current day: 13727 0.7521643835616438 %), time: 1451.0773689746857\n",
      "stored file number 37 , current day: 13770 0.7545205479452055 %), time: 1484.2876319885254\n",
      "stored file number 38 , current day: 13812 0.7568219178082192 %), time: 1535.2984540462494\n",
      "stored file number 39 , current day: 13853 0.7590684931506849 %), time: 1565.6770679950714\n",
      "stored file number 40 , current day: 13893 0.7612602739726028 %), time: 1599.599957227707\n",
      "stored file number 41 , current day: 13932 0.7633972602739726 %), time: 1650.5490579605103\n",
      "stored file number 42 , current day: 13970 0.7654794520547945 %), time: 1699.1568450927734\n",
      "stored file number 43 , current day: 14007 0.7675068493150685 %), time: 1729.3709869384766\n",
      "stored file number 44 , current day: 14043 0.7694794520547945 %), time: 1764.8115019798279\n",
      "stored file number 45 , current day: 14079 0.7714520547945205 %), time: 1788.854975938797\n",
      "stored file number 46 , current day: 14114 0.7733698630136986 %), time: 1809.164463043213\n",
      "stored file number 47 , current day: 14148 0.7752328767123288 %), time: 1864.2628951072693\n",
      "stored file number 48 , current day: 14181 0.7770410958904109 %), time: 1886.4387209415436\n",
      "stored file number 49 , current day: 14214 0.7788493150684932 %), time: 1966.4876992702484\n",
      "stored file number 50 , current day: 14246 0.7806027397260275 %), time: 2003.8515701293945\n",
      "stored file number 51 , current day: 14278 0.7823561643835616 %), time: 2048.8182740211487\n",
      "stored file number 52 , current day: 14309 0.7840547945205479 %), time: 2085.8288280963898\n",
      "stored file number 53 , current day: 14339 0.7856986301369863 %), time: 2124.3068771362305\n",
      "stored file number 54 , current day: 14369 0.7873424657534247 %), time: 2195.2567551136017\n",
      "stored file number 55 , current day: 14398 0.7889315068493151 %), time: 2225.359957933426\n",
      "stored file number 56 , current day: 14427 0.7905205479452054 %), time: 2247.6472868919373\n",
      "stored file number 57 , current day: 14455 0.792054794520548 %), time: 2277.257392168045\n",
      "stored file number 58 , current day: 14483 0.7935890410958905 %), time: 2300.360948085785\n",
      "stored file number 59 , current day: 14510 0.795068493150685 %), time: 2356.298492193222\n",
      "stored file number 60 , current day: 14537 0.7965479452054794 %), time: 2403.359733104706\n",
      "stored file number 61 , current day: 14563 0.797972602739726 %), time: 2450.3321561813354\n",
      "stored file number 62 , current day: 14589 0.7993972602739726 %), time: 2496.5770201683044\n",
      "stored file number 63 , current day: 14615 0.8008219178082192 %), time: 2521.843568086624\n",
      "stored file number 64 , current day: 14640 0.8021917808219178 %), time: 2561.652177095413\n",
      "stored file number 65 , current day: 14665 0.8035616438356165 %), time: 2606.889410018921\n",
      "stored file number 66 , current day: 14689 0.8048767123287671 %), time: 2630.6796588897705\n",
      "stored file number 67 , current day: 14713 0.8061917808219178 %), time: 2702.248496055603\n",
      "stored file number 68 , current day: 14737 0.8075068493150684 %), time: 2752.0345273017883\n",
      "stored file number 69 , current day: 14760 0.8087671232876712 %), time: 2787.034483194351\n",
      "stored file number 70 , current day: 14783 0.810027397260274 %), time: 2838.6323449611664\n",
      "stored file number 71 , current day: 14806 0.8112876712328767 %), time: 2886.3541531562805\n",
      "stored file number 72 , current day: 14828 0.8124931506849316 %), time: 2930.168121099472\n",
      "stored file number 73 , current day: 14850 0.8136986301369863 %), time: 2958.998234987259\n",
      "stored file number 74 , current day: 14872 0.8149041095890411 %), time: 3012.562473297119\n",
      "stored file number 75 , current day: 14894 0.8161095890410959 %), time: 3055.4265801906586\n",
      "stored file number 76 , current day: 14915 0.8172602739726027 %), time: 3086.395672082901\n",
      "stored file number 77 , current day: 14936 0.8184109589041096 %), time: 3121.6496229171753\n",
      "stored file number 78 , current day: 14957 0.8195616438356165 %), time: 3164.611592054367\n",
      "stored file number 79 , current day: 14977 0.8206575342465754 %), time: 3196.5446870326996\n",
      "stored file number 80 , current day: 14997 0.8217534246575342 %), time: 11905.47929406166\n"
     ]
    },
    {
     "ename": "KeyboardInterrupt",
     "evalue": "",
     "output_type": "error",
     "traceback": [
      "\u001b[0;31m---------------------------------------------------------------------------\u001b[0m",
      "\u001b[0;31mKeyboardInterrupt\u001b[0m                         Traceback (most recent call last)",
      "\u001b[0;32m<ipython-input-84-e51e7bbdc5bd>\u001b[0m in \u001b[0;36m<module>\u001b[0;34m()\u001b[0m\n\u001b[1;32m    117\u001b[0m \u001b[0mtotal_days\u001b[0m \u001b[0;34m=\u001b[0m \u001b[0;36m18250\u001b[0m\u001b[0;34m\u001b[0m\u001b[0;34m\u001b[0m\u001b[0m\n\u001b[1;32m    118\u001b[0m \u001b[0mstart_day\u001b[0m \u001b[0;34m=\u001b[0m \u001b[0;36m1\u001b[0m\u001b[0;34m\u001b[0m\u001b[0;34m\u001b[0m\u001b[0m\n\u001b[0;32m--> 119\u001b[0;31m \u001b[0mcreate_datasets\u001b[0m\u001b[0;34m(\u001b[0m\u001b[0mcsv_filesize\u001b[0m\u001b[0;34m,\u001b[0m \u001b[0mtotal_days\u001b[0m\u001b[0;34m,\u001b[0m \u001b[0mstart_day\u001b[0m\u001b[0;34m)\u001b[0m\u001b[0;34m\u001b[0m\u001b[0;34m\u001b[0m\u001b[0m\n\u001b[0m",
      "\u001b[0;32m<ipython-input-84-e51e7bbdc5bd>\u001b[0m in \u001b[0;36mcreate_datasets\u001b[0;34m(filesize, total_days, day)\u001b[0m\n\u001b[1;32m     94\u001b[0m             \u001b[0;31m#s = time.time()\u001b[0m\u001b[0;34m\u001b[0m\u001b[0;34m\u001b[0m\u001b[0;34m\u001b[0m\u001b[0m\n\u001b[1;32m     95\u001b[0m             \u001b[0mrnd\u001b[0m \u001b[0;34m=\u001b[0m \u001b[0mrandom\u001b[0m\u001b[0;34m.\u001b[0m\u001b[0mrandint\u001b[0m\u001b[0;34m(\u001b[0m\u001b[0;36m1\u001b[0m\u001b[0;34m,\u001b[0m\u001b[0mlen\u001b[0m\u001b[0;34m(\u001b[0m\u001b[0mterms\u001b[0m\u001b[0;34m)\u001b[0m\u001b[0;34m-\u001b[0m\u001b[0;36m101\u001b[0m\u001b[0;34m)\u001b[0m\u001b[0;34m\u001b[0m\u001b[0;34m\u001b[0m\u001b[0m\n\u001b[0;32m---> 96\u001b[0;31m             \u001b[0mtext\u001b[0m \u001b[0;34m=\u001b[0m \u001b[0;34m\" \"\u001b[0m\u001b[0;34m.\u001b[0m\u001b[0mjoin\u001b[0m\u001b[0;34m(\u001b[0m\u001b[0mterms\u001b[0m\u001b[0;34m[\u001b[0m\u001b[0mrnd\u001b[0m\u001b[0;34m:\u001b[0m\u001b[0mrnd\u001b[0m\u001b[0;34m+\u001b[0m\u001b[0;36m100\u001b[0m\u001b[0;34m]\u001b[0m\u001b[0;34m)\u001b[0m\u001b[0;34m\u001b[0m\u001b[0;34m\u001b[0m\u001b[0m\n\u001b[0m\u001b[1;32m     97\u001b[0m             \u001b[0;31m#e = time.time()\u001b[0m\u001b[0;34m\u001b[0m\u001b[0;34m\u001b[0m\u001b[0;34m\u001b[0m\u001b[0m\n\u001b[1;32m     98\u001b[0m             \u001b[0;31m#times[1] += e-s\u001b[0m\u001b[0;34m\u001b[0m\u001b[0;34m\u001b[0m\u001b[0;34m\u001b[0m\u001b[0m\n",
      "\u001b[0;31mKeyboardInterrupt\u001b[0m: "
     ]
    }
   ],
   "source": [
    "#start_value = 1\n",
    "start_time_shift =20\n",
    "random_walk_weight = 0.03\n",
    "random_walk_variance = 1\n",
    "seasonality_1_freq = 50 #lower is shorter\n",
    "seasonality_1_weight = 5\n",
    "seasonality_2_freq = 7 #lower is shorter\n",
    "seasonality_2_weight = 2\n",
    "\n",
    "num_words_in_text = 100 # number of words in each patent text\n",
    "\n",
    "sample_size = 1000\n",
    "\n",
    "trend = 0.02\n",
    "#exponent = 1\n",
    "time_reg = 10000\n",
    "exponent = 0.553\n",
    "n_samples = 10\n",
    "bucket_name = 'patents-bucket'\n",
    "\n",
    "times = [0,0,0,0,0,0]\n",
    "dfs = []\n",
    "\n",
    "day = 0\n",
    "\n",
    "# store dataframe to S3 in CSV format\n",
    "def store_data(df, file_num, csv=True):\n",
    "    if csv:\n",
    "        csv_buffer = StringIO()\n",
    "        df.to_csv(csv_buffer, index=False)\n",
    "        #df.to_parquet(buffer)\n",
    "        s3_resource = boto3.resource('s3')\n",
    "        s3_resource.Object(bucket_name, 'patents-csv/patents_'+str(file_num)+'.csv').put(Body=csv_buffer.getvalue())\n",
    "        #s3_resource.Object(bucket_name, 'patents-parquet/patents_'+str(file_num)+'.parquet').put(Body=buffer.getvalue())\n",
    "    \n",
    "    else:\n",
    "        s3_url = 's3://patents-bucket/patents-test/patents2_'+str(file_num)+'.csv'\n",
    "        df.to_parquet(s3_url)\n",
    "    \n",
    "    dfs.append(df)\n",
    "    \n",
    "# Get number of samples to be made for one day\n",
    "def get_num_samples(day):\n",
    "    #Assume no start at y = 0\n",
    "    random_walk = np.random.normal(0,random_walk_variance)\n",
    "    time = day + start_time_shift\n",
    "\n",
    "    y = (np.sin(time/seasonality_1_freq))*seasonality_1_weight #Add seasonality 1\n",
    "    y = y + np.sin(time/seasonality_2_freq)*seasonality_2_weight #Add seasonality 2\n",
    "    #y = y + (trend * (time ** exponent)) #Add trend\n",
    "    y = y + (trend*(time ** (exponent * (1 + time / time_reg) ) ) )\n",
    "\n",
    "    # Random walk component\n",
    "    random_walk += np.random.normal(0,random_walk_variance)\n",
    "    \n",
    "    return max(0, y + random_walk * random_walk_weight)\n",
    "\n",
    "\n",
    "def create_datasets(filesize, total_days, day):\n",
    "    #print(\"Storing\", filesize/1000000, \"MB in each file\")\n",
    "    start_time = time.time()\n",
    "    rows = []\n",
    "    file_num = 0\n",
    "\n",
    "    while day < total_days:\n",
    "        #if i%10000 == 0:\n",
    "            #print(i, sys.getsizeof(rows))\n",
    "        \n",
    "        #s1 = time.time()    \n",
    "        if sys.getsizeof(rows) > filesize: # larger than filesize (120mb?), store file\n",
    "            df = pd.DataFrame(rows, columns=['date', 'code', 'text'])\n",
    "            #print(\"stored\", sys.getsizeof(rows)/1000000, \"MB in file num\", file_num)\n",
    "            store_data(df, file_num)\n",
    "            print(\"stored file number\", file_num, \", current day:\",day,day/total_days,\"%), time:\", time.time()-start_time)\n",
    "            rows = []\n",
    "            file_num+=1\n",
    "        #e1 = time.time()\n",
    "        #times[3] += e1-s1\n",
    "            \n",
    "        #s2 = time.time()  \n",
    "        num_samples = get_num_samples(day)\n",
    "        #e2 = time.time()\n",
    "        #times[4] += e2-s2\n",
    "        \n",
    "        #s3 = time.time()\n",
    "        for n in range(int(round(num_samples))): #Create n entries\n",
    "            #s = time.time()\n",
    "            date = datetime.datetime(1968, 1, 1, 0, 0) + timedelta(days=int(day))\n",
    "            current_sample = day+n\n",
    "            #e = time.time()\n",
    "            #times[0] += e-s\n",
    "            #sample = terms[current_sample:current_sample+100]\n",
    "            #text = \" \".join(random.sample(terms, num_words_in_text)) # TOO SLOW\n",
    "            #s = time.time()\n",
    "            rnd = random.randint(1,len(terms)-101)\n",
    "            text = \" \".join(terms[rnd:rnd+100])\n",
    "            #e = time.time()\n",
    "            #times[1] += e-s\n",
    "            #s = time.time()\n",
    "            #rows.append([date, get_random_code(code_counts), text])\n",
    "            \n",
    "            rows.append([date, random.choice(unique_codes), text])\n",
    "            #e = time.time()\n",
    "            #times[2] += e-s\n",
    "        #e3 = time.time()\n",
    "        #times[2] += e3-s3\n",
    "        \n",
    "        day+=1\n",
    "    end_time = time.time()\n",
    "    print(\"Total time passed:\", end_time-start_time)\n",
    "        \n",
    "csv_filesize = 2000000\n",
    "parquet_filesize = 2000000\n",
    "\n",
    "max_total_size = 3000000 #3mb\n",
    "#max_files = int(max_total_size/filesize)\n",
    "total_days = 18250\n",
    "start_day = 1\n",
    "create_datasets(csv_filesize, total_days, start_day)\n"
   ]
  },
  {
   "cell_type": "code",
   "execution_count": 64,
   "metadata": {},
   "outputs": [
    {
     "data": {
      "text/plain": [
       "datetime.datetime(2017, 12, 19, 0, 0)"
      ]
     },
     "execution_count": 64,
     "metadata": {},
     "output_type": "execute_result"
    }
   ],
   "source": [
    "datetime.datetime(1968, 1, 1, 0, 0) + timedelta(days=int(18250))"
   ]
  },
  {
   "cell_type": "code",
   "execution_count": 35,
   "metadata": {},
   "outputs": [
    {
     "name": "stdout",
     "output_type": "stream",
     "text": [
      "27.536070108413696\n"
     ]
    }
   ],
   "source": [
    "           \n",
    "s = time.time()\n",
    "for i in range(10000000):\n",
    "    rnd = random.randint(1,len(terms)-101)\n",
    "    terms[rnd:rnd+100]\n",
    "e = time.time()\n",
    "print( e-s)"
   ]
  }
 ],
 "metadata": {
  "kernelspec": {
   "display_name": "Python 3",
   "language": "python",
   "name": "python3"
  },
  "language_info": {
   "codemirror_mode": {
    "name": "ipython",
    "version": 3
   },
   "file_extension": ".py",
   "mimetype": "text/x-python",
   "name": "python",
   "nbconvert_exporter": "python",
   "pygments_lexer": "ipython3",
   "version": "3.6.7"
  }
 },
 "nbformat": 4,
 "nbformat_minor": 2
}
