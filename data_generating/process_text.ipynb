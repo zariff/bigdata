{
 "cells": [
  {
   "cell_type": "code",
   "execution_count": 40,
   "metadata": {},
   "outputs": [],
   "source": [
    "import nltk\n",
    "from nltk.corpus import stopwords\n",
    "import re\n",
    "from collections import Counter"
   ]
  },
  {
   "cell_type": "code",
   "execution_count": 37,
   "metadata": {},
   "outputs": [],
   "source": [
    "word_list = []\n",
    "filename = 'shakespeare.txt'\n",
    "\n",
    "with open(filename, \"r\") as f:\n",
    "    for line in f:\n",
    "        word_list.extend(line.split())"
   ]
  },
  {
   "cell_type": "code",
   "execution_count": 38,
   "metadata": {},
   "outputs": [],
   "source": [
    "stop_words = set(stopwords.words('english')) \n",
    "\n",
    "filtered_list = [re.sub('[^a-zA-Z0-9]+', '', _).lower() for _ in word_list]\n",
    "\n",
    "filtered_list = [w for w in filtered_list if not w in stop_words] "
   ]
  },
  {
   "cell_type": "code",
   "execution_count": 36,
   "metadata": {},
   "outputs": [],
   "source": [
    "with open('filtered_text.txt', 'w') as f:\n",
    "    for item in filtered_list:\n",
    "        f.write(\"%s\\n\" % item)"
   ]
  },
  {
   "cell_type": "code",
   "execution_count": 41,
   "metadata": {},
   "outputs": [
    {
     "data": {
      "text/plain": [
       "[('thou', 5485),\n",
       " ('thy', 4032),\n",
       " ('shall', 3591),\n",
       " ('thee', 3178),\n",
       " ('lord', 3059),\n",
       " ('king', 2861),\n",
       " ('good', 2812),\n",
       " ('sir', 2754),\n",
       " ('come', 2507),\n",
       " ('well', 2462),\n",
       " ('would', 2295),\n",
       " ('let', 2099),\n",
       " ('enter', 2098),\n",
       " ('love', 2053),\n",
       " ('ill', 1972),\n",
       " ('hath', 1941),\n",
       " ('may', 1865),\n",
       " ('man', 1835),\n",
       " ('one', 1787),\n",
       " ('go', 1734),\n",
       " ('upon', 1731),\n",
       " ('like', 1703),\n",
       " ('say', 1680),\n",
       " ('know', 1647),\n",
       " ('make', 1629),\n",
       " ('us', 1622),\n",
       " ('yet', 1569),\n",
       " ('must', 1492),\n",
       " ('see', 1440),\n",
       " ('tis', 1405),\n",
       " ('give', 1333),\n",
       " ('time', 1270),\n",
       " ('take', 1198),\n",
       " ('speak', 1165),\n",
       " ('first', 1161),\n",
       " ('mine', 1161),\n",
       " ('th', 1148),\n",
       " ('duke', 1071),\n",
       " ('tell', 1059),\n",
       " ('much', 1035),\n",
       " ('exeunt', 1035),\n",
       " ('think', 1025),\n",
       " ('never', 1011),\n",
       " ('heart', 985),\n",
       " ('exit', 984),\n",
       " ('queen', 943),\n",
       " ('doth', 939),\n",
       " ('art', 915),\n",
       " ('great', 899),\n",
       " ('hear', 871)]"
      ]
     },
     "execution_count": 41,
     "metadata": {},
     "output_type": "execute_result"
    }
   ],
   "source": [
    "Counter(filtered_list).most_common(50)"
   ]
  },
  {
   "cell_type": "code",
   "execution_count": null,
   "metadata": {},
   "outputs": [],
   "source": []
  }
 ],
 "metadata": {
  "kernelspec": {
   "display_name": "Python 3",
   "language": "python",
   "name": "python3"
  },
  "language_info": {
   "codemirror_mode": {
    "name": "ipython",
    "version": 3
   },
   "file_extension": ".py",
   "mimetype": "text/x-python",
   "name": "python",
   "nbconvert_exporter": "python",
   "pygments_lexer": "ipython3",
   "version": "3.6.7"
  }
 },
 "nbformat": 4,
 "nbformat_minor": 2
}
